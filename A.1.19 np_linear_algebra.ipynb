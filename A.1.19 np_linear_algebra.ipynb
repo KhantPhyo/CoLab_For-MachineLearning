{
  "nbformat": 4,
  "nbformat_minor": 0,
  "metadata": {
    "colab": {
      "provenance": [],
      "include_colab_link": true
    },
    "kernelspec": {
      "name": "python3",
      "display_name": "Python 3"
    },
    "language_info": {
      "name": "python"
    }
  },
  "cells": [
    {
      "cell_type": "markdown",
      "metadata": {
        "id": "view-in-github",
        "colab_type": "text"
      },
      "source": [
        "<a href=\"https://colab.research.google.com/github/KhantPhyo/CoLab_For-MachineLearning/blob/main/A.1.19%20np_linear_algebra.ipynb\" target=\"_parent\"><img src=\"https://colab.research.google.com/assets/colab-badge.svg\" alt=\"Open In Colab\"/></a>"
      ]
    },
    {
      "cell_type": "code",
      "execution_count": null,
      "metadata": {
        "colab": {
          "base_uri": "https://localhost:8080/"
        },
        "id": "gPhA6C5qnZmM",
        "outputId": "ec782119-f0cd-4d9f-d6d5-5b43f1841021"
      },
      "outputs": [
        {
          "output_type": "stream",
          "name": "stdout",
          "text": [
            "[[1 2]\n",
            " [3 4]]\n",
            "[[11 12]\n",
            " [13 14]]\n"
          ]
        },
        {
          "output_type": "execute_result",
          "data": {
            "text/plain": [
              "array([[37, 40],\n",
              "       [85, 92]])"
            ]
          },
          "metadata": {},
          "execution_count": 1
        }
      ],
      "source": [
        "#https://www.tutorialspoint.com/numpy/numpy_linear_algebra.htm\n",
        "import numpy as np\n",
        "#https://www.tutorialspoint.com/numpy/numpy_dot.htm\n",
        "a = np.array([[1,2],[3,4]])\n",
        "print(a)\n",
        "b = np.array([[11,12],[13,14]])\n",
        "print(b)\n",
        "np.dot(a,b)"
      ]
    },
    {
      "cell_type": "code",
      "source": [
        "a.dot(b)"
      ],
      "metadata": {
        "colab": {
          "base_uri": "https://localhost:8080/"
        },
        "id": "vyXT782NeEf-",
        "outputId": "b154e7f9-1f4d-43d6-f0f9-8b07bfbf8447"
      },
      "execution_count": null,
      "outputs": [
        {
          "output_type": "execute_result",
          "data": {
            "text/plain": [
              "array([[37, 40],\n",
              "       [85, 92]])"
            ]
          },
          "metadata": {},
          "execution_count": 2
        }
      ]
    },
    {
      "cell_type": "code",
      "source": [
        "np.dot(b,a)"
      ],
      "metadata": {
        "colab": {
          "base_uri": "https://localhost:8080/"
        },
        "id": "n5qfzAdYNyJS",
        "outputId": "1b7c3d54-9e0e-461b-b030-6e951bbd677b"
      },
      "execution_count": null,
      "outputs": [
        {
          "output_type": "execute_result",
          "data": {
            "text/plain": [
              "array([[47, 70],\n",
              "       [55, 82]])"
            ]
          },
          "metadata": {},
          "execution_count": 3
        }
      ]
    },
    {
      "cell_type": "code",
      "source": [
        "b.dot(a)"
      ],
      "metadata": {
        "colab": {
          "base_uri": "https://localhost:8080/"
        },
        "id": "mNRzGcRhd7Nx",
        "outputId": "d3989b9a-8c9d-4c0b-e708-6d8c21ff0df8"
      },
      "execution_count": null,
      "outputs": [
        {
          "output_type": "execute_result",
          "data": {
            "text/plain": [
              "array([[47, 70],\n",
              "       [55, 82]])"
            ]
          },
          "metadata": {},
          "execution_count": 4
        }
      ]
    },
    {
      "cell_type": "code",
      "source": [
        "a = np.array([1,2])\n",
        "b = np.array([3,4])\n",
        "a.dot(b), np.cross(a,b)"
      ],
      "metadata": {
        "colab": {
          "base_uri": "https://localhost:8080/"
        },
        "id": "u947EChMeUBt",
        "outputId": "f12c63dc-2d4d-45b8-a135-17c2d68a373a"
      },
      "execution_count": null,
      "outputs": [
        {
          "output_type": "execute_result",
          "data": {
            "text/plain": [
              "(11, array(-2))"
            ]
          },
          "metadata": {},
          "execution_count": 5
        }
      ]
    },
    {
      "cell_type": "code",
      "source": [
        "b.dot(a), np.cross(b,a)"
      ],
      "metadata": {
        "colab": {
          "base_uri": "https://localhost:8080/"
        },
        "id": "kTYfTI6dek-0",
        "outputId": "ec5ec4ed-5c79-4c1a-aa55-92d6e0c69f5b"
      },
      "execution_count": null,
      "outputs": [
        {
          "output_type": "execute_result",
          "data": {
            "text/plain": [
              "(11, array(2))"
            ]
          },
          "metadata": {},
          "execution_count": 6
        }
      ]
    },
    {
      "cell_type": "code",
      "source": [
        "#https://www.tutorialspoint.com/numpy/numpy_vdot.htm\n",
        "print(np.vdot(a,b))\n",
        "print(np.vdot(b,a))"
      ],
      "metadata": {
        "colab": {
          "base_uri": "https://localhost:8080/"
        },
        "id": "BFiNxNi9pDe1",
        "outputId": "8f3103ce-68c5-4455-fa3a-f8d86f4c7509"
      },
      "execution_count": null,
      "outputs": [
        {
          "output_type": "stream",
          "name": "stdout",
          "text": [
            "11\n",
            "11\n"
          ]
        }
      ]
    },
    {
      "cell_type": "code",
      "source": [
        "#https://www.tutorialspoint.com/numpy/numpy_inner.htm\n",
        "a = np.array([1,2,3])\n",
        "print(a)\n",
        "b = np.array([0,1,0])\n",
        "print(b)\n",
        "np.inner(a,b)"
      ],
      "metadata": {
        "colab": {
          "base_uri": "https://localhost:8080/"
        },
        "id": "XW0_JfkmqSuZ",
        "outputId": "539c3170-ef89-43e6-c78a-c76324c48c4c"
      },
      "execution_count": null,
      "outputs": [
        {
          "output_type": "stream",
          "name": "stdout",
          "text": [
            "[1 2 3]\n",
            "[0 1 0]\n"
          ]
        },
        {
          "output_type": "execute_result",
          "data": {
            "text/plain": [
              "2"
            ]
          },
          "metadata": {},
          "execution_count": 8
        }
      ]
    },
    {
      "cell_type": "code",
      "source": [
        "np.inner(b,a)"
      ],
      "metadata": {
        "colab": {
          "base_uri": "https://localhost:8080/"
        },
        "id": "xtBzZmxXOPsk",
        "outputId": "04d56e8e-74cc-4fab-c111-5039b265d1b9"
      },
      "execution_count": null,
      "outputs": [
        {
          "output_type": "execute_result",
          "data": {
            "text/plain": [
              "2"
            ]
          },
          "metadata": {},
          "execution_count": 9
        }
      ]
    },
    {
      "cell_type": "code",
      "source": [
        "a = np.array([[1,2], [3,4]])\n",
        "print(a)\n",
        "b = np.array([[11, 12], [13, 14]])\n",
        "print(b)\n",
        "np.inner(a,b)"
      ],
      "metadata": {
        "colab": {
          "base_uri": "https://localhost:8080/"
        },
        "id": "tjjKLSiSqsln",
        "outputId": "8cfd5547-5b64-4682-8d2c-8b8458150fb1"
      },
      "execution_count": null,
      "outputs": [
        {
          "output_type": "stream",
          "name": "stdout",
          "text": [
            "[[1 2]\n",
            " [3 4]]\n",
            "[[11 12]\n",
            " [13 14]]\n"
          ]
        },
        {
          "output_type": "execute_result",
          "data": {
            "text/plain": [
              "array([[35, 41],\n",
              "       [81, 95]])"
            ]
          },
          "metadata": {},
          "execution_count": 10
        }
      ]
    },
    {
      "cell_type": "code",
      "source": [
        "np.inner(b,a)"
      ],
      "metadata": {
        "colab": {
          "base_uri": "https://localhost:8080/"
        },
        "id": "BTC-vX32OYgI",
        "outputId": "b63e7cb8-ce9d-4b4b-e791-33ffa49ed2b0"
      },
      "execution_count": null,
      "outputs": [
        {
          "output_type": "execute_result",
          "data": {
            "text/plain": [
              "array([[35, 81],\n",
              "       [41, 95]])"
            ]
          },
          "metadata": {},
          "execution_count": 11
        }
      ]
    },
    {
      "cell_type": "code",
      "source": [
        "#https://www.tutorialspoint.com/numpy/numpy_matmul.htm\n",
        "a = [[1,0],[0,1]]\n",
        "print(a)\n",
        "b = [[4,1],[2,2]]\n",
        "print(b)\n",
        "print(np.matmul(a,b))"
      ],
      "metadata": {
        "id": "MgU9eRYRq6UH",
        "colab": {
          "base_uri": "https://localhost:8080/"
        },
        "outputId": "fd76d5f8-c846-4204-baff-c160fe2ae71f"
      },
      "execution_count": null,
      "outputs": [
        {
          "output_type": "stream",
          "name": "stdout",
          "text": [
            "[[1, 0], [0, 1]]\n",
            "[[4, 1], [2, 2]]\n",
            "[[4 1]\n",
            " [2 2]]\n"
          ]
        }
      ]
    },
    {
      "cell_type": "code",
      "source": [
        "print(np.matmul(b,a))"
      ],
      "metadata": {
        "colab": {
          "base_uri": "https://localhost:8080/"
        },
        "id": "SOnmxDaMPigw",
        "outputId": "dd161edc-df1e-4795-bf13-3b426d1635bf"
      },
      "execution_count": null,
      "outputs": [
        {
          "output_type": "stream",
          "name": "stdout",
          "text": [
            "[[4 1]\n",
            " [2 2]]\n"
          ]
        }
      ]
    },
    {
      "cell_type": "code",
      "source": [
        "a = [[1,0],[0,1]]\n",
        "print(a)\n",
        "b = [1,2]\n",
        "print(b)\n",
        "print(np.matmul(a,b))\n",
        "print(np.matmul(b,a))"
      ],
      "metadata": {
        "colab": {
          "base_uri": "https://localhost:8080/"
        },
        "id": "bjdB6ODajZqZ",
        "outputId": "efebe77d-e2c6-4b71-ad4c-8997edd54c80"
      },
      "execution_count": null,
      "outputs": [
        {
          "output_type": "stream",
          "name": "stdout",
          "text": [
            "[[1, 0], [0, 1]]\n",
            "[1, 2]\n",
            "[1 2]\n",
            "[1 2]\n"
          ]
        }
      ]
    },
    {
      "cell_type": "code",
      "source": [
        "a = np.arange(8).reshape(2,2,2)\n",
        "print(a)\n",
        "b = np.arange(4).reshape(2,2)\n",
        "print(b)\n",
        "print(np.matmul(a,b))"
      ],
      "metadata": {
        "colab": {
          "base_uri": "https://localhost:8080/"
        },
        "id": "AJTtx8EOj1jl",
        "outputId": "36d47827-9dc3-4ece-d703-d1b967a6247b"
      },
      "execution_count": null,
      "outputs": [
        {
          "output_type": "stream",
          "name": "stdout",
          "text": [
            "[[[0 1]\n",
            "  [2 3]]\n",
            "\n",
            " [[4 5]\n",
            "  [6 7]]]\n",
            "[[0 1]\n",
            " [2 3]]\n",
            "[[[ 2  3]\n",
            "  [ 6 11]]\n",
            "\n",
            " [[10 19]\n",
            "  [14 27]]]\n"
          ]
        }
      ]
    },
    {
      "cell_type": "code",
      "source": [
        "print(np.matmul(b,a))"
      ],
      "metadata": {
        "colab": {
          "base_uri": "https://localhost:8080/"
        },
        "id": "Gs51zClSPxBi",
        "outputId": "9a7ef560-105f-4516-f609-720be594ef36"
      },
      "execution_count": null,
      "outputs": [
        {
          "output_type": "stream",
          "name": "stdout",
          "text": [
            "[[[ 2  3]\n",
            "  [ 6 11]]\n",
            "\n",
            " [[ 6  7]\n",
            "  [26 31]]]\n"
          ]
        }
      ]
    },
    {
      "cell_type": "code",
      "source": [
        "#https://www.tutorialspoint.com/numpy/numpy_determinant.htm\n",
        "a = np.array([[1,2], [3,4]])\n",
        "print(a)\n",
        "print(np.linalg.det(a))"
      ],
      "metadata": {
        "colab": {
          "base_uri": "https://localhost:8080/"
        },
        "id": "9OwwPevBkCld",
        "outputId": "b62534ee-0217-4245-cee0-081705aef1a3"
      },
      "execution_count": null,
      "outputs": [
        {
          "output_type": "stream",
          "name": "stdout",
          "text": [
            "[[1 2]\n",
            " [3 4]]\n",
            "-2.0000000000000004\n"
          ]
        }
      ]
    },
    {
      "cell_type": "code",
      "source": [
        "b = np.array([[6,1,1], [4, -2, 5], [2,8,7]])\n",
        "print(b)\n",
        "print(np.linalg.det(b))\n",
        "print(6*(-2*7 - 5*8) - 1*(4*7 - 5*2) + 1*(4*8 - -2*2))"
      ],
      "metadata": {
        "colab": {
          "base_uri": "https://localhost:8080/"
        },
        "id": "MB3O19QAklN-",
        "outputId": "154af6bb-0e5b-4a84-d458-71e90b80e80e"
      },
      "execution_count": null,
      "outputs": [
        {
          "output_type": "stream",
          "name": "stdout",
          "text": [
            "[[ 6  1  1]\n",
            " [ 4 -2  5]\n",
            " [ 2  8  7]]\n",
            "-306.0\n",
            "-306\n"
          ]
        }
      ]
    },
    {
      "cell_type": "code",
      "source": [
        "#https://www.tutorialspoint.com/numpy/numpy_solve.htm\n",
        "#a + 2b = 1\n",
        "#3a + 5b = 2\n",
        "A = np.array([[1, 2], [3, 5]])\n",
        "print(A)\n",
        "b = np.array([1, 2])\n",
        "print(b)\n",
        "#Ax = b\n",
        "x = np.linalg.solve(A, b)\n",
        "print(x)\n",
        "#x = inv(A)*b\n",
        "ainv = np.linalg.inv(A)\n",
        "print(ainv)\n",
        "x = np.dot(ainv,b)\n",
        "print(x)"
      ],
      "metadata": {
        "colab": {
          "base_uri": "https://localhost:8080/"
        },
        "id": "59dFLEt-k4e3",
        "outputId": "6e0808b4-6416-429e-848e-e7abf4242fd2"
      },
      "execution_count": null,
      "outputs": [
        {
          "output_type": "stream",
          "name": "stdout",
          "text": [
            "[[1 2]\n",
            " [3 5]]\n",
            "[1 2]\n",
            "[-1.  1.]\n",
            "[[-5.  2.]\n",
            " [ 3. -1.]]\n",
            "[-1.  1.]\n"
          ]
        }
      ]
    },
    {
      "cell_type": "code",
      "source": [
        "#x + y + z = 6\n",
        "#2y + 5z = -4\n",
        "#2x + 5y - z = 27\n",
        "A = np.array([[1,1,1],[0,2,5],[2,5,-1]])\n",
        "print(A)\n",
        "b = np.array([6,-4,27])\n",
        "print(b)\n",
        "#Ax = b\n",
        "x = np.linalg.solve(A, b)\n",
        "print(x)\n",
        "#x = inv(A)*b\n",
        "ainv = np.linalg.inv(A)\n",
        "print(ainv)\n",
        "x = np.dot(ainv,b)\n",
        "print(x)"
      ],
      "metadata": {
        "colab": {
          "base_uri": "https://localhost:8080/"
        },
        "id": "T2E5b1famCIo",
        "outputId": "43c5737b-a1d0-4baa-cfc2-2fe075265ad0"
      },
      "execution_count": null,
      "outputs": [
        {
          "output_type": "stream",
          "name": "stdout",
          "text": [
            "[[ 1  1  1]\n",
            " [ 0  2  5]\n",
            " [ 2  5 -1]]\n",
            "[ 6 -4 27]\n",
            "[ 5.  3. -2.]\n",
            "[[ 1.28571429 -0.28571429 -0.14285714]\n",
            " [-0.47619048  0.14285714  0.23809524]\n",
            " [ 0.19047619  0.14285714 -0.0952381 ]]\n",
            "[ 5.  3. -2.]\n"
          ]
        }
      ]
    },
    {
      "cell_type": "code",
      "source": [
        "#x + y + z = 2\n",
        "#6x - 4y + 5z = 31\n",
        "#5x + 2y + 2z = 13\n",
        "a = np.array([[1,1,1],[6,-4,5],[5,2,2]])\n",
        "print(a)\n",
        "b = np.array([2,31,13])\n",
        "print(b)\n",
        "#ax = b\n",
        "x = np.linalg.solve(a, b)\n",
        "print(x)\n",
        "#x = inv(a)*b\n",
        "ainv = np.linalg.inv(a)\n",
        "print(ainv)\n",
        "x = np.dot(ainv,b)\n",
        "print(x)"
      ],
      "metadata": {
        "colab": {
          "base_uri": "https://localhost:8080/"
        },
        "id": "z3VoGMM3qddf",
        "outputId": "81169927-7902-445b-dc0a-602c78a3cc15"
      },
      "execution_count": null,
      "outputs": [
        {
          "output_type": "stream",
          "name": "stdout",
          "text": [
            "[[ 1  1  1]\n",
            " [ 6 -4  5]\n",
            " [ 5  2  2]]\n",
            "[ 2 31 13]\n",
            "[ 3. -2.  1.]\n",
            "[[-0.66666667  0.          0.33333333]\n",
            " [ 0.48148148 -0.11111111  0.03703704]\n",
            " [ 1.18518519  0.11111111 -0.37037037]]\n",
            "[ 3. -2.  1.]\n"
          ]
        }
      ]
    },
    {
      "cell_type": "code",
      "source": [
        "#3x + y -2z = 7\n",
        "#x - 3y + 4z = 15\n",
        "#2x - 2y + z = 12\n",
        "a = np.array([[3,1,-2],[1,-3,4],[2,-2,1]])\n",
        "print(a)\n",
        "b = np.array([7,15,12])\n",
        "print(b)\n",
        "x = np.linalg.solve(a, b)\n",
        "print(x)\n",
        "ainv = np.linalg.inv(a)\n",
        "print(ainv)\n",
        "x = np.dot(ainv,b)\n",
        "print(x)"
      ],
      "metadata": {
        "id": "xAUPm0JAturK",
        "colab": {
          "base_uri": "https://localhost:8080/"
        },
        "outputId": "c3f85d3e-bf84-4435-f508-04eb67d89dab"
      },
      "execution_count": null,
      "outputs": [
        {
          "output_type": "stream",
          "name": "stdout",
          "text": [
            "[[ 3  1 -2]\n",
            " [ 1 -3  4]\n",
            " [ 2 -2  1]]\n",
            "[ 7 15 12]\n",
            "[ 4. -1.  2.]\n",
            "[[ 0.35714286  0.21428571 -0.14285714]\n",
            " [ 0.5         0.5        -1.        ]\n",
            " [ 0.28571429  0.57142857 -0.71428571]]\n",
            "[ 4. -1.  2.]\n"
          ]
        }
      ]
    },
    {
      "cell_type": "code",
      "source": [],
      "metadata": {
        "id": "e3fx0cpHDLZP"
      },
      "execution_count": null,
      "outputs": []
    }
  ]
}