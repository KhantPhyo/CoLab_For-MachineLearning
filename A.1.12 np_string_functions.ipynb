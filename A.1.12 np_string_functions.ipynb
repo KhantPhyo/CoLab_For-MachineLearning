{
  "nbformat": 4,
  "nbformat_minor": 0,
  "metadata": {
    "colab": {
      "provenance": [],
      "include_colab_link": true
    },
    "kernelspec": {
      "name": "python3",
      "display_name": "Python 3"
    },
    "language_info": {
      "name": "python"
    }
  },
  "cells": [
    {
      "cell_type": "markdown",
      "metadata": {
        "id": "view-in-github",
        "colab_type": "text"
      },
      "source": [
        "<a href=\"https://colab.research.google.com/github/KhantPhyo/CoLab_For-MachineLearning/blob/main/A.1.12%20np_string_functions.ipynb\" target=\"_parent\"><img src=\"https://colab.research.google.com/assets/colab-badge.svg\" alt=\"Open In Colab\"/></a>"
      ]
    },
    {
      "cell_type": "code",
      "execution_count": null,
      "metadata": {
        "colab": {
          "base_uri": "https://localhost:8080/"
        },
        "id": "SOWgOCKLZE4H",
        "outputId": "392b4b3d-889e-493a-e4eb-714a51e61084"
      },
      "outputs": [
        {
          "output_type": "stream",
          "name": "stdout",
          "text": [
            "['hello xyz']\n"
          ]
        }
      ],
      "source": [
        "#https://www.tutorialspoint.com/numpy/numpy_string_functions.htm\n",
        "import numpy as np\n",
        "print(np.char.add(['hello'],[' xyz']))"
      ]
    },
    {
      "cell_type": "code",
      "source": [
        "print(np.char.add(['hello', 'hi'],[' abc', ' xyz']))"
      ],
      "metadata": {
        "colab": {
          "base_uri": "https://localhost:8080/"
        },
        "id": "goJLzHf8eFxA",
        "outputId": "644f7f55-3e48-48db-c2c8-d42f743cb23d"
      },
      "execution_count": null,
      "outputs": [
        {
          "output_type": "stream",
          "name": "stdout",
          "text": [
            "['hello abc' 'hi xyz']\n"
          ]
        }
      ]
    },
    {
      "cell_type": "code",
      "source": [
        "print(np.char.multiply('Hello ',3))"
      ],
      "metadata": {
        "colab": {
          "base_uri": "https://localhost:8080/"
        },
        "id": "P1IvNJsReLwu",
        "outputId": "239c8467-3e78-47a6-da05-ac6104331a4d"
      },
      "execution_count": null,
      "outputs": [
        {
          "output_type": "stream",
          "name": "stdout",
          "text": [
            "Hello Hello Hello \n"
          ]
        }
      ]
    },
    {
      "cell_type": "code",
      "source": [
        "print(np.char.center('hello', 20,fillchar = '*'))"
      ],
      "metadata": {
        "colab": {
          "base_uri": "https://localhost:8080/"
        },
        "id": "BLhM6urneU1S",
        "outputId": "c3771265-868d-4f8a-fc6e-704ab1fb512f"
      },
      "execution_count": null,
      "outputs": [
        {
          "output_type": "stream",
          "name": "stdout",
          "text": [
            "*******hello********\n"
          ]
        }
      ]
    },
    {
      "cell_type": "code",
      "source": [
        "print(np.char.capitalize('hello world'))"
      ],
      "metadata": {
        "colab": {
          "base_uri": "https://localhost:8080/"
        },
        "id": "B0xmxHQ7essP",
        "outputId": "d1b7ca5d-098d-4ab0-edf5-88fdec0ba8c6"
      },
      "execution_count": null,
      "outputs": [
        {
          "output_type": "stream",
          "name": "stdout",
          "text": [
            "Hello world\n"
          ]
        }
      ]
    },
    {
      "cell_type": "code",
      "source": [
        "print(np.char.title('hello how are you?'))"
      ],
      "metadata": {
        "colab": {
          "base_uri": "https://localhost:8080/"
        },
        "id": "bfA-xmWde1G8",
        "outputId": "a3950d87-9e59-42f8-e544-3f22bd0593c0"
      },
      "execution_count": null,
      "outputs": [
        {
          "output_type": "stream",
          "name": "stdout",
          "text": [
            "Hello How Are You?\n"
          ]
        }
      ]
    },
    {
      "cell_type": "code",
      "source": [
        "print(np.char.lower(['HELLO','WORLD']))\n",
        "print(np.char.lower('HELLO'))"
      ],
      "metadata": {
        "colab": {
          "base_uri": "https://localhost:8080/"
        },
        "id": "l5e2pw8afDBe",
        "outputId": "72bd3bcf-0ade-4ed8-ea29-f38a3803db3f"
      },
      "execution_count": null,
      "outputs": [
        {
          "output_type": "stream",
          "name": "stdout",
          "text": [
            "['hello' 'world']\n",
            "hello\n"
          ]
        }
      ]
    },
    {
      "cell_type": "code",
      "source": [
        "print(np.char.upper('hello'))\n",
        "print(np.char.upper(['hello','world']))"
      ],
      "metadata": {
        "colab": {
          "base_uri": "https://localhost:8080/"
        },
        "id": "RFU4KQShfOyH",
        "outputId": "a3f04bf3-0cfe-4cd1-f95b-8ced5a5ff6a6"
      },
      "execution_count": null,
      "outputs": [
        {
          "output_type": "stream",
          "name": "stdout",
          "text": [
            "HELLO\n",
            "['HELLO' 'WORLD']\n"
          ]
        }
      ]
    },
    {
      "cell_type": "code",
      "source": [
        "print(np.char.split ('hello how are you?'))\n",
        "print(np.char.split ('TutorialsPoint,Hyderabad,Telangana', sep = ','))"
      ],
      "metadata": {
        "colab": {
          "base_uri": "https://localhost:8080/"
        },
        "id": "k8WnCwrffY6W",
        "outputId": "5d58de7f-c834-4c3e-b2bc-21c220b0ef77"
      },
      "execution_count": null,
      "outputs": [
        {
          "output_type": "stream",
          "name": "stdout",
          "text": [
            "['hello', 'how', 'are', 'you?']\n",
            "['TutorialsPoint', 'Hyderabad', 'Telangana']\n"
          ]
        }
      ]
    },
    {
      "cell_type": "code",
      "source": [
        "print(np.char.splitlines('hello\\nhow are you?'))\n",
        "print(np.char.splitlines('hello\\rhow are you?'))"
      ],
      "metadata": {
        "colab": {
          "base_uri": "https://localhost:8080/"
        },
        "id": "WQ-yEEccfnD_",
        "outputId": "f3bc5b96-13ba-4c35-e70d-269bfd9c575f"
      },
      "execution_count": null,
      "outputs": [
        {
          "output_type": "stream",
          "name": "stdout",
          "text": [
            "['hello', 'how are you?']\n",
            "['hello', 'how are you?']\n"
          ]
        }
      ]
    },
    {
      "cell_type": "code",
      "source": [
        "print(np.char.strip('ashok arora','a'))\n",
        "print(np.char.strip(['arora','admin','java'],'a'))"
      ],
      "metadata": {
        "colab": {
          "base_uri": "https://localhost:8080/"
        },
        "id": "ghTv1aHJf0ZT",
        "outputId": "8360886d-765d-489f-d065-5cef772728d6"
      },
      "execution_count": null,
      "outputs": [
        {
          "output_type": "stream",
          "name": "stdout",
          "text": [
            "shok aror\n",
            "['ror' 'dmin' 'jav']\n"
          ]
        }
      ]
    },
    {
      "cell_type": "code",
      "source": [
        "print(np.char.join(':','dmy'))\n",
        "print(np.char.join([':','-'],['dmy','ymd']))"
      ],
      "metadata": {
        "colab": {
          "base_uri": "https://localhost:8080/"
        },
        "id": "ApSPyfi_gBYo",
        "outputId": "4a5f0303-e103-451b-8344-f6043b22242b"
      },
      "execution_count": null,
      "outputs": [
        {
          "output_type": "stream",
          "name": "stdout",
          "text": [
            "d:m:y\n",
            "['d:m:y' 'y-m-d']\n"
          ]
        }
      ]
    },
    {
      "cell_type": "code",
      "source": [
        "print(np.char.replace ('He is a good boy', 'is', 'was'))"
      ],
      "metadata": {
        "colab": {
          "base_uri": "https://localhost:8080/"
        },
        "id": "-qRchT-2gYyq",
        "outputId": "a4822fe4-bd73-451e-f69a-d906176c21b2"
      },
      "execution_count": null,
      "outputs": [
        {
          "output_type": "stream",
          "name": "stdout",
          "text": [
            "He was a good boy\n"
          ]
        }
      ]
    },
    {
      "cell_type": "code",
      "source": [
        "a = np.char.encode('hello', 'cp500')\n",
        "print(a)\n",
        "print(np.char.decode(a,'cp500'))"
      ],
      "metadata": {
        "colab": {
          "base_uri": "https://localhost:8080/"
        },
        "id": "QQudkgkRglZj",
        "outputId": "67ac3d93-2a76-4487-e8ca-3afb1bfb744e"
      },
      "execution_count": null,
      "outputs": [
        {
          "output_type": "stream",
          "name": "stdout",
          "text": [
            "b'\\x88\\x85\\x93\\x93\\x96'\n",
            "hello\n"
          ]
        }
      ]
    },
    {
      "cell_type": "code",
      "source": [
        "a = np.char.encode('hello', 'cp500')\n",
        "print(a)"
      ],
      "metadata": {
        "colab": {
          "base_uri": "https://localhost:8080/"
        },
        "id": "jV8Gj8dWgwVb",
        "outputId": "62f0b0bc-1bab-404a-abdf-63f8ca584745"
      },
      "execution_count": null,
      "outputs": [
        {
          "output_type": "stream",
          "name": "stdout",
          "text": [
            "b'\\x88\\x85\\x93\\x93\\x96'\n"
          ]
        }
      ]
    },
    {
      "cell_type": "code",
      "source": [],
      "metadata": {
        "id": "XfEO4kBRhFB0"
      },
      "execution_count": null,
      "outputs": []
    }
  ]
}