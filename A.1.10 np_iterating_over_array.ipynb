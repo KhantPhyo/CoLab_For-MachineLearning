{
  "nbformat": 4,
  "nbformat_minor": 0,
  "metadata": {
    "colab": {
      "provenance": [],
      "include_colab_link": true
    },
    "kernelspec": {
      "name": "python3",
      "display_name": "Python 3"
    },
    "language_info": {
      "name": "python"
    }
  },
  "cells": [
    {
      "cell_type": "markdown",
      "metadata": {
        "id": "view-in-github",
        "colab_type": "text"
      },
      "source": [
        "<a href=\"https://colab.research.google.com/github/KhantPhyo/CoLab_For-MachineLearning/blob/main/A.1.10%20np_iterating_over_array.ipynb\" target=\"_parent\"><img src=\"https://colab.research.google.com/assets/colab-badge.svg\" alt=\"Open In Colab\"/></a>"
      ]
    },
    {
      "cell_type": "code",
      "execution_count": null,
      "metadata": {
        "colab": {
          "base_uri": "https://localhost:8080/"
        },
        "id": "AgjEL9NCfmPX",
        "outputId": "03e1fd36-3383-471f-dce9-1c4459358b43"
      },
      "outputs": [
        {
          "output_type": "stream",
          "name": "stdout",
          "text": [
            "[ 0  5 10 15 20 25 30 35 40 45 50 55]\n",
            "1\n",
            "[[ 0  5 10 15]\n",
            " [20 25 30 35]\n",
            " [40 45 50 55]]\n",
            "2\n"
          ]
        }
      ],
      "source": [
        "#https://www.tutorialspoint.com/numpy/numpy_iterating_over_array.htm\n",
        "import numpy as np\n",
        "a = np.arange(0,60,5)\n",
        "print(a)\n",
        "print(a.ndim)\n",
        "a = a.reshape(3,4)\n",
        "print(a)\n",
        "print(a.ndim)"
      ]
    },
    {
      "cell_type": "code",
      "source": [
        "for x in np.nditer(a):\n",
        "   print(x, end=' ')"
      ],
      "metadata": {
        "colab": {
          "base_uri": "https://localhost:8080/"
        },
        "id": "l-ncQhgMiNv-",
        "outputId": "c40c2d37-1a24-4fef-a2e6-920963babff2"
      },
      "execution_count": null,
      "outputs": [
        {
          "output_type": "stream",
          "name": "stdout",
          "text": [
            "0 5 10 15 20 25 30 35 40 45 50 55 "
          ]
        }
      ]
    },
    {
      "cell_type": "code",
      "source": [
        "for x in a:\n",
        "  print(x, end=' ')"
      ],
      "metadata": {
        "colab": {
          "base_uri": "https://localhost:8080/"
        },
        "id": "CgiCiB7YnqvE",
        "outputId": "6d667d0a-9393-44ec-90f3-5d2d7a036fad"
      },
      "execution_count": null,
      "outputs": [
        {
          "output_type": "stream",
          "name": "stdout",
          "text": [
            "[ 0  5 10 15] [20 25 30 35] [40 45 50 55] "
          ]
        }
      ]
    },
    {
      "cell_type": "code",
      "source": [
        "b = a.T\n",
        "print(b)\n",
        "print(b.shape)\n",
        "print(b.ndim)"
      ],
      "metadata": {
        "colab": {
          "base_uri": "https://localhost:8080/"
        },
        "id": "EAXP7hXsinyU",
        "outputId": "c49ce57b-d786-473e-f42f-16127d011ba1"
      },
      "execution_count": null,
      "outputs": [
        {
          "output_type": "stream",
          "name": "stdout",
          "text": [
            "[[ 0 20 40]\n",
            " [ 5 25 45]\n",
            " [10 30 50]\n",
            " [15 35 55]]\n",
            "(4, 3)\n",
            "2\n"
          ]
        }
      ]
    },
    {
      "cell_type": "code",
      "source": [
        "c = b.copy(order = 'C')\n",
        "print(c)\n",
        "print(c.shape)\n",
        "for x in np.nditer(c):\n",
        "   print(x, end=' ')"
      ],
      "metadata": {
        "colab": {
          "base_uri": "https://localhost:8080/"
        },
        "id": "_Er9hf5yjGVh",
        "outputId": "ee7a580f-ed7d-48bc-8252-c6155a400290"
      },
      "execution_count": null,
      "outputs": [
        {
          "output_type": "stream",
          "name": "stdout",
          "text": [
            "[[ 0 20 40]\n",
            " [ 5 25 45]\n",
            " [10 30 50]\n",
            " [15 35 55]]\n",
            "(4, 3)\n",
            "0 20 40 5 25 45 10 30 50 15 35 55 "
          ]
        }
      ]
    },
    {
      "cell_type": "code",
      "source": [
        "c = b.copy(order = 'F')\n",
        "print(c)\n",
        "print(c.shape)\n",
        "for x in np.nditer(c):\n",
        "   print(x, end=' ')"
      ],
      "metadata": {
        "colab": {
          "base_uri": "https://localhost:8080/"
        },
        "id": "0ima2sOejm1O",
        "outputId": "67d87332-b94b-4910-8b1f-6249bbe418a0"
      },
      "execution_count": null,
      "outputs": [
        {
          "output_type": "stream",
          "name": "stdout",
          "text": [
            "[[ 0 20 40]\n",
            " [ 5 25 45]\n",
            " [10 30 50]\n",
            " [15 35 55]]\n",
            "(4, 3)\n",
            "0 5 10 15 20 25 30 35 40 45 50 55 "
          ]
        }
      ]
    },
    {
      "cell_type": "code",
      "source": [
        "a = np.arange(0,60,5).reshape(3,4)\n",
        "print(a)\n",
        "print(a.shape)\n",
        "for x in np.nditer(a, op_flags = ['readwrite']):\n",
        "   x[...] = 2*x\n",
        "\n",
        "print(a)\n",
        "print(a.shape)"
      ],
      "metadata": {
        "colab": {
          "base_uri": "https://localhost:8080/"
        },
        "id": "kfCX6f7-jvCg",
        "outputId": "cd199bbb-045a-46af-ed5a-40404a3f6259"
      },
      "execution_count": null,
      "outputs": [
        {
          "output_type": "stream",
          "name": "stdout",
          "text": [
            "[[ 0  5 10 15]\n",
            " [20 25 30 35]\n",
            " [40 45 50 55]]\n",
            "(3, 4)\n",
            "[[  0  10  20  30]\n",
            " [ 40  50  60  70]\n",
            " [ 80  90 100 110]]\n",
            "(3, 4)\n"
          ]
        }
      ]
    },
    {
      "cell_type": "code",
      "source": [
        "a = np.arange(0,60,5).reshape(3,4)\n",
        "print(a)\n",
        "print(a.shape)\n",
        "for x in np.nditer(a, flags = ['external_loop'], order = 'F'):\n",
        "   print(x, end=' ')"
      ],
      "metadata": {
        "colab": {
          "base_uri": "https://localhost:8080/"
        },
        "id": "xdVP3teGkoQ-",
        "outputId": "6b093003-aa0e-4e69-a9b1-0a51cbdd9063"
      },
      "execution_count": null,
      "outputs": [
        {
          "output_type": "stream",
          "name": "stdout",
          "text": [
            "[[ 0  5 10 15]\n",
            " [20 25 30 35]\n",
            " [40 45 50 55]]\n",
            "(3, 4)\n",
            "[ 0 20 40] [ 5 25 45] [10 30 50] [15 35 55] "
          ]
        }
      ]
    },
    {
      "cell_type": "code",
      "source": [
        "b = np.array([1, 2, 3, 4], dtype = int)\n",
        "print(b)"
      ],
      "metadata": {
        "colab": {
          "base_uri": "https://localhost:8080/"
        },
        "id": "eA6thgKxlGSl",
        "outputId": "9b21df32-1668-44c0-ba5c-fabb45c7dbec"
      },
      "execution_count": null,
      "outputs": [
        {
          "output_type": "stream",
          "name": "stdout",
          "text": [
            "[1 2 3 4]\n"
          ]
        }
      ]
    },
    {
      "cell_type": "code",
      "source": [
        "print(a)\n",
        "print(b)\n",
        "for x,y in np.nditer([a,b]):\n",
        "   print(\"%d:%d\" % (x,y), end=' ')"
      ],
      "metadata": {
        "colab": {
          "base_uri": "https://localhost:8080/"
        },
        "id": "7R7ZyM4TlVsI",
        "outputId": "51857428-2568-4a6e-bc61-689401268dce"
      },
      "execution_count": null,
      "outputs": [
        {
          "output_type": "stream",
          "name": "stdout",
          "text": [
            "[[ 0  5 10 15]\n",
            " [20 25 30 35]\n",
            " [40 45 50 55]]\n",
            "[1 2 3 4]\n",
            "0:1 5:2 10:3 15:4 20:1 25:2 30:3 35:4 40:1 45:2 50:3 55:4 "
          ]
        }
      ]
    },
    {
      "cell_type": "code",
      "source": [
        "a+b"
      ],
      "metadata": {
        "id": "zc1k5DO-lgYt",
        "colab": {
          "base_uri": "https://localhost:8080/"
        },
        "outputId": "9a1de622-dcb0-4415-b7dc-86746e61a241"
      },
      "execution_count": null,
      "outputs": [
        {
          "output_type": "execute_result",
          "data": {
            "text/plain": [
              "array([[ 1,  7, 13, 19],\n",
              "       [21, 27, 33, 39],\n",
              "       [41, 47, 53, 59]])"
            ]
          },
          "metadata": {},
          "execution_count": 11
        }
      ]
    },
    {
      "cell_type": "code",
      "source": [],
      "metadata": {
        "id": "MdZcCMg_wkWR"
      },
      "execution_count": null,
      "outputs": []
    }
  ]
}