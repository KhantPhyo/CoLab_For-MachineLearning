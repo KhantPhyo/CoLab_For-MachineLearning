{
  "nbformat": 4,
  "nbformat_minor": 0,
  "metadata": {
    "colab": {
      "provenance": [],
      "include_colab_link": true
    },
    "kernelspec": {
      "name": "python3",
      "display_name": "Python 3"
    },
    "language_info": {
      "name": "python"
    }
  },
  "cells": [
    {
      "cell_type": "markdown",
      "metadata": {
        "id": "view-in-github",
        "colab_type": "text"
      },
      "source": [
        "<a href=\"https://colab.research.google.com/github/KhantPhyo/CoLab_For-MachineLearning/blob/main/A.1.21%20np_histogram_using_matplotlib.ipynb\" target=\"_parent\"><img src=\"https://colab.research.google.com/assets/colab-badge.svg\" alt=\"Open In Colab\"/></a>"
      ]
    },
    {
      "cell_type": "code",
      "execution_count": null,
      "metadata": {
        "colab": {
          "base_uri": "https://localhost:8080/"
        },
        "id": "BbtUGNik01ld",
        "outputId": "5e999959-3fec-4a91-b0af-287f0e26aed9"
      },
      "outputs": [
        {
          "output_type": "stream",
          "name": "stdout",
          "text": [
            "[3 4 5 2 1]\n",
            "[  0  20  40  60  80 100]\n"
          ]
        }
      ],
      "source": [
        "#https://www.tutorialspoint.com/numpy/numpy_histogram_using_matplotlib.htm\n",
        "import numpy as np\n",
        "from matplotlib import pyplot as plt\n",
        "\n",
        "a = np.array([22,87,5,43,56,73,55,54,11,20,51,5,79,31,27])\n",
        "#np.histogram(a,bins = [0,20,40,60,80,100])\n",
        "hist,bins = np.histogram(a,bins = [0,20,40,60,80,100])\n",
        "print(hist)\n",
        "print(bins)"
      ]
    },
    {
      "cell_type": "code",
      "source": [
        "plt.hist(a, bins = [0,20,40,60,80,100])\n",
        "plt.title(\"histogram\")\n",
        "plt.show()"
      ],
      "metadata": {
        "colab": {
          "base_uri": "https://localhost:8080/",
          "height": 452
        },
        "id": "TeaCv_um3Ie5",
        "outputId": "ba063f6d-98db-4573-ce6b-7fb96e14d1e3"
      },
      "execution_count": null,
      "outputs": [
        {
          "output_type": "display_data",
          "data": {
            "text/plain": [
              "<Figure size 640x480 with 1 Axes>"
            ],
            "image/png": "[encoded data removed]"
          },
          "metadata": {}
        }
      ]
    },
    {
      "cell_type": "code",
      "source": [],
      "metadata": {
        "id": "Q0cp4ZZp3ZYy"
      },
      "execution_count": null,
      "outputs": []
    }
  ]
}