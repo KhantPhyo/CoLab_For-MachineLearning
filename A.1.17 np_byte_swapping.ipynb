{
  "nbformat": 4,
  "nbformat_minor": 0,
  "metadata": {
    "colab": {
      "provenance": [],
      "include_colab_link": true
    },
    "kernelspec": {
      "name": "python3",
      "display_name": "Python 3"
    },
    "language_info": {
      "name": "python"
    }
  },
  "cells": [
    {
      "cell_type": "markdown",
      "metadata": {
        "id": "view-in-github",
        "colab_type": "text"
      },
      "source": [
        "<a href=\"https://colab.research.google.com/github/KhantPhyo/CoLab_For-MachineLearning/blob/main/A.1.17%20np_byte_swapping.ipynb\" target=\"_parent\"><img src=\"https://colab.research.google.com/assets/colab-badge.svg\" alt=\"Open In Colab\"/></a>"
      ]
    },
    {
      "cell_type": "code",
      "execution_count": null,
      "metadata": {
        "colab": {
          "base_uri": "https://localhost:8080/"
        },
        "id": "-2UXOFH6qsbx",
        "outputId": "20bfb9b9-fc45-4efe-c52a-724e4ad53e4d"
      },
      "outputs": [
        {
          "output_type": "execute_result",
          "data": {
            "text/plain": [
              "array([   1,  256, 8755], dtype=uint16)"
            ]
          },
          "metadata": {},
          "execution_count": 2
        }
      ],
      "source": [
        "#https://www.tutorialspoint.com/numpy/numpy_byte_swapping.htm\n",
        "import numpy as np\n",
        "a = np.array([1, 256, 8755], dtype=np.uint16)\n",
        "a"
      ]
    },
    {
      "cell_type": "code",
      "source": [
        "print(a)\n",
        "print([hex(i) for i in a])\n",
        "[bin(i) for i in a]"
      ],
      "metadata": {
        "colab": {
          "base_uri": "https://localhost:8080/"
        },
        "id": "uorKwGDyt4di",
        "outputId": "e90ce628-b09a-48ff-d229-c40df77fae77"
      },
      "execution_count": null,
      "outputs": [
        {
          "output_type": "stream",
          "name": "stdout",
          "text": [
            "[   1  256 8755]\n",
            "['0x1', '0x100', '0x2233']\n"
          ]
        },
        {
          "output_type": "execute_result",
          "data": {
            "text/plain": [
              "['0b1', '0b100000000', '0b10001000110011']"
            ]
          },
          "metadata": {},
          "execution_count": 3
        }
      ]
    },
    {
      "cell_type": "code",
      "source": [
        "print(a.byteswap(True))\n",
        "print([hex(i) for i in a])\n",
        "[bin(i) for i in a]"
      ],
      "metadata": {
        "colab": {
          "base_uri": "https://localhost:8080/"
        },
        "id": "8ARGWHCluBlz",
        "outputId": "099b567a-fc04-46fc-a8e8-31e146962cb9"
      },
      "execution_count": null,
      "outputs": [
        {
          "output_type": "stream",
          "name": "stdout",
          "text": [
            "[   1  256 8755]\n",
            "['0x1', '0x100', '0x2233']\n"
          ]
        },
        {
          "output_type": "execute_result",
          "data": {
            "text/plain": [
              "['0b1', '0b100000000', '0b10001000110011']"
            ]
          },
          "metadata": {},
          "execution_count": 5
        }
      ]
    },
    {
      "cell_type": "code",
      "source": [
        "a = np.array([1, 256, 8755], dtype=np.uint16)\n",
        "print(a)\n",
        "print([np.binary_repr(i, width = 16) for i in a])\n",
        "print(a.byteswap(True))\n",
        "print([np.binary_repr(i, width = 16) for i in a])"
      ],
      "metadata": {
        "id": "QPRfPKO0uofq",
        "colab": {
          "base_uri": "https://localhost:8080/"
        },
        "outputId": "af8e6e17-ba20-410f-b317-d7ae7cf476f3"
      },
      "execution_count": null,
      "outputs": [
        {
          "output_type": "stream",
          "name": "stdout",
          "text": [
            "[   1  256 8755]\n",
            "['0000000000000001', '0000000100000000', '0010001000110011']\n",
            "[  256     1 13090]\n",
            "['0000000100000000', '0000000000000001', '0011001100100010']\n"
          ]
        }
      ]
    },
    {
      "cell_type": "code",
      "source": [],
      "metadata": {
        "id": "JA9G2onk8i0N"
      },
      "execution_count": null,
      "outputs": []
    }
  ]
}