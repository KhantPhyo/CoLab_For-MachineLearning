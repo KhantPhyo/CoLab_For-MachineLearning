{
  "nbformat": 4,
  "nbformat_minor": 0,
  "metadata": {
    "colab": {
      "provenance": [],
      "include_colab_link": true
    },
    "kernelspec": {
      "name": "python3",
      "display_name": "Python 3"
    },
    "language_info": {
      "name": "python"
    }
  },
  "cells": [
    {
      "cell_type": "markdown",
      "metadata": {
        "id": "view-in-github",
        "colab_type": "text"
      },
      "source": [
        "<a href=\"https://colab.research.google.com/github/KhantPhyo/CoLab_For-MachineLearning/blob/main/A.1.4%20np_array_creation_routines.ipynb\" target=\"_parent\"><img src=\"https://colab.research.google.com/assets/colab-badge.svg\" alt=\"Open In Colab\"/></a>"
      ]
    },
    {
      "cell_type": "code",
      "execution_count": null,
      "metadata": {
        "id": "uj3LLZQacqJR"
      },
      "outputs": [],
      "source": [
        "#https://www.tutorialspoint.com/numpy/numpy_array_creation_routines.htm\n",
        "import numpy as np"
      ]
    },
    {
      "cell_type": "code",
      "source": [
        "#https://numpy.org/doc/stable/reference/generated/numpy.empty.html\n",
        "#numpy.empty(shape, dtype=float, order='C', *, like=None)\n",
        "x = np.empty([3,2], dtype = np.int8)\n",
        "print(x)\n",
        "print(x.shape)\n",
        "print(x.ndim)\n",
        "print(x.dtype)\n",
        "print(x.itemsize)"
      ],
      "metadata": {
        "colab": {
          "base_uri": "https://localhost:8080/"
        },
        "id": "g35YcnDOwZnu",
        "outputId": "bc200cde-c60f-4342-e96b-225abb648b25"
      },
      "execution_count": null,
      "outputs": [
        {
          "output_type": "stream",
          "name": "stdout",
          "text": [
            "[[-124    5]\n",
            " [ -78  -92]\n",
            " [-122   90]]\n",
            "(3, 2)\n",
            "2\n",
            "int8\n",
            "1\n"
          ]
        }
      ]
    },
    {
      "cell_type": "code",
      "source": [
        "#https://numpy.org/doc/stable/reference/generated/numpy.zeros.html\n",
        "#numpy.zeros(shape, dtype=float, order='C', *, like=None)\n",
        "x = np.zeros(5)\n",
        "print(x)\n",
        "print(x.shape)\n",
        "print(x.ndim)\n",
        "print(x.dtype)\n",
        "print(x.itemsize)"
      ],
      "metadata": {
        "colab": {
          "base_uri": "https://localhost:8080/"
        },
        "id": "jOOH8p_FdAgP",
        "outputId": "acee6d5d-55ed-4ef9-8b76-ba4bbb83e2d9"
      },
      "execution_count": null,
      "outputs": [
        {
          "output_type": "stream",
          "name": "stdout",
          "text": [
            "[0. 0. 0. 0. 0.]\n",
            "(5,)\n",
            "1\n",
            "float64\n",
            "8\n"
          ]
        }
      ]
    },
    {
      "cell_type": "code",
      "source": [
        "x = np.zeros((5,), dtype = np.int64)\n",
        "print(x)\n",
        "print(x.shape)\n",
        "print(x.ndim)\n",
        "print(x.dtype)\n",
        "print(x.itemsize)"
      ],
      "metadata": {
        "colab": {
          "base_uri": "https://localhost:8080/"
        },
        "id": "Yxh79O-HePUo",
        "outputId": "362b40a6-93b7-4533-c7bd-eb732992a93e"
      },
      "execution_count": null,
      "outputs": [
        {
          "output_type": "stream",
          "name": "stdout",
          "text": [
            "[0 0 0 0 0]\n",
            "(5,)\n",
            "1\n",
            "int64\n",
            "8\n"
          ]
        }
      ]
    },
    {
      "cell_type": "code",
      "source": [
        "x = np.zeros((5,), dtype = np.uint8)\n",
        "print(x)\n",
        "print(x.shape)\n",
        "print(x.ndim)\n",
        "print(x.dtype)\n",
        "print(x.itemsize)"
      ],
      "metadata": {
        "colab": {
          "base_uri": "https://localhost:8080/"
        },
        "id": "HTikC2f6eZq3",
        "outputId": "35ab8908-cfb0-45f0-e441-2332c0294945"
      },
      "execution_count": null,
      "outputs": [
        {
          "output_type": "stream",
          "name": "stdout",
          "text": [
            "[0 0 0 0 0]\n",
            "(5,)\n",
            "1\n",
            "uint8\n",
            "1\n"
          ]
        }
      ]
    },
    {
      "cell_type": "code",
      "source": [
        "#https://numpy.org/doc/stable/reference/generated/numpy.ones.html\n",
        "#numpy.ones(shape, dtype=None, order='C', *, like=None)\n",
        "x = np.ones(5)\n",
        "print(x)\n",
        "print(x.shape)\n",
        "print(x.ndim)\n",
        "print(x.dtype)\n",
        "print(x.itemsize)"
      ],
      "metadata": {
        "colab": {
          "base_uri": "https://localhost:8080/"
        },
        "id": "NbeIw3Yxemk7",
        "outputId": "0eca4354-a4d7-4b14-80e4-3f8fb8672c89"
      },
      "execution_count": null,
      "outputs": [
        {
          "output_type": "stream",
          "name": "stdout",
          "text": [
            "[1. 1. 1. 1. 1.]\n",
            "(5,)\n",
            "1\n",
            "float64\n",
            "8\n"
          ]
        }
      ]
    },
    {
      "cell_type": "code",
      "source": [
        "x = np.ones(5, dtype = np.int64)\n",
        "print(x)\n",
        "print(x.shape)\n",
        "print(x.ndim)\n",
        "print(x.dtype)\n",
        "print(x.itemsize)"
      ],
      "metadata": {
        "colab": {
          "base_uri": "https://localhost:8080/"
        },
        "id": "pbMWPCV8f2tJ",
        "outputId": "cc8a88d4-c28e-44b3-8884-14ba41aaa7ef"
      },
      "execution_count": null,
      "outputs": [
        {
          "output_type": "stream",
          "name": "stdout",
          "text": [
            "[1 1 1 1 1]\n",
            "(5,)\n",
            "1\n",
            "int64\n",
            "8\n"
          ]
        }
      ]
    },
    {
      "cell_type": "code",
      "source": [
        "x = np.ones(5, dtype = np.uint8)\n",
        "print(x)\n",
        "print(x.shape)\n",
        "print(x.ndim)\n",
        "print(x.dtype)\n",
        "print(x.itemsize)"
      ],
      "metadata": {
        "colab": {
          "base_uri": "https://localhost:8080/"
        },
        "id": "BKz0d7huf9PE",
        "outputId": "af8cd463-fddb-4857-e5f0-5c9cf4f05b19"
      },
      "execution_count": null,
      "outputs": [
        {
          "output_type": "stream",
          "name": "stdout",
          "text": [
            "[1 1 1 1 1]\n",
            "(5,)\n",
            "1\n",
            "uint8\n",
            "1\n"
          ]
        }
      ]
    },
    {
      "cell_type": "code",
      "source": [],
      "metadata": {
        "id": "xgEkinD6gByO"
      },
      "execution_count": null,
      "outputs": []
    }
  ]
}