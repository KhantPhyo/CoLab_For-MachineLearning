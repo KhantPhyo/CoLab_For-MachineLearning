{
  "nbformat": 4,
  "nbformat_minor": 0,
  "metadata": {
    "colab": {
      "provenance": [],
      "include_colab_link": true
    },
    "kernelspec": {
      "name": "python3",
      "display_name": "Python 3"
    },
    "language_info": {
      "name": "python"
    }
  },
  "cells": [
    {
      "cell_type": "markdown",
      "metadata": {
        "id": "view-in-github",
        "colab_type": "text"
      },
      "source": [
        "<a href=\"https://colab.research.google.com/github/KhantPhyo/CoLab_For-MachineLearning/blob/main/A.1.8%20np_advanced_indexing.ipynb\" target=\"_parent\"><img src=\"https://colab.research.google.com/assets/colab-badge.svg\" alt=\"Open In Colab\"/></a>"
      ]
    },
    {
      "cell_type": "code",
      "execution_count": null,
      "metadata": {
        "colab": {
          "base_uri": "https://localhost:8080/"
        },
        "id": "8i7RKCmET0Rz",
        "outputId": "1de502cd-20dc-4b6c-ae46-efa088c0c26a"
      },
      "outputs": [
        {
          "output_type": "stream",
          "name": "stdout",
          "text": [
            "[[1 2]\n",
            " [3 4]\n",
            " [5 6]]\n",
            "[1 4 5]\n"
          ]
        }
      ],
      "source": [
        "#https://www.tutorialspoint.com/numpy/numpy_advanced_indexing.htm\n",
        "import numpy as np\n",
        "x = np.array([[1, 2], [3, 4], [5, 6]])\n",
        "print(x)\n",
        "y = x[[0,1,2], [0,1,0]]\n",
        "print(y)"
      ]
    },
    {
      "cell_type": "code",
      "source": [
        "x = np.array([[ 0,  1,  2],[ 3,  4,  5],[ 6,  7,  8],[ 9, 10, 11]])\n",
        "print(x)\n",
        "rows = np.array([[0,0],[3,3]])\n",
        "print(rows)\n",
        "cols = np.array([[0,2],[0,2]])\n",
        "print(cols)\n",
        "y = x[rows,cols]\n",
        "print(y)"
      ],
      "metadata": {
        "colab": {
          "base_uri": "https://localhost:8080/"
        },
        "id": "mfEcqI3kUKlr",
        "outputId": "2f1f314a-2aa8-4b2b-faaf-79a3a6b63734"
      },
      "execution_count": null,
      "outputs": [
        {
          "output_type": "stream",
          "name": "stdout",
          "text": [
            "[[ 0  1  2]\n",
            " [ 3  4  5]\n",
            " [ 6  7  8]\n",
            " [ 9 10 11]]\n",
            "[[0 0]\n",
            " [3 3]]\n",
            "[[0 2]\n",
            " [0 2]]\n",
            "[[ 0  2]\n",
            " [ 9 11]]\n"
          ]
        }
      ]
    },
    {
      "cell_type": "code",
      "source": [
        "z = x[1:4,1:3]\n",
        "print(z)"
      ],
      "metadata": {
        "colab": {
          "base_uri": "https://localhost:8080/"
        },
        "id": "rjVQ09_SZgfI",
        "outputId": "b8e07a67-1ec9-48f5-dbbf-ebe5cdbba4ef"
      },
      "execution_count": null,
      "outputs": [
        {
          "output_type": "stream",
          "name": "stdout",
          "text": [
            "[[ 4  5]\n",
            " [ 7  8]\n",
            " [10 11]]\n"
          ]
        }
      ]
    },
    {
      "cell_type": "code",
      "source": [
        "y = x[1:4,[1,2]]\n",
        "print(y)"
      ],
      "metadata": {
        "colab": {
          "base_uri": "https://localhost:8080/"
        },
        "id": "S18eoplCaWh7",
        "outputId": "f91ef1f1-b627-4062-9a95-e1ad16af9439"
      },
      "execution_count": null,
      "outputs": [
        {
          "output_type": "stream",
          "name": "stdout",
          "text": [
            "[[ 4  5]\n",
            " [ 7  8]\n",
            " [10 11]]\n"
          ]
        }
      ]
    },
    {
      "cell_type": "code",
      "source": [
        "x > 5"
      ],
      "metadata": {
        "colab": {
          "base_uri": "https://localhost:8080/"
        },
        "id": "VXAtjZ7E-8S5",
        "outputId": "0e246452-eb3d-4b1f-8ea5-6bc7ca73903a"
      },
      "execution_count": null,
      "outputs": [
        {
          "output_type": "execute_result",
          "data": {
            "text/plain": [
              "array([[False, False, False],\n",
              "       [False, False, False],\n",
              "       [ True,  True,  True],\n",
              "       [ True,  True,  True]])"
            ]
          },
          "metadata": {},
          "execution_count": 7
        }
      ]
    },
    {
      "cell_type": "code",
      "source": [
        "print(x[x > 5])"
      ],
      "metadata": {
        "colab": {
          "base_uri": "https://localhost:8080/"
        },
        "id": "ryeCde_Hakjt",
        "outputId": "ba72cbfc-180d-486c-bd85-4a6122553b11"
      },
      "execution_count": null,
      "outputs": [
        {
          "output_type": "stream",
          "name": "stdout",
          "text": [
            "[ 6  7  8  9 10 11]\n"
          ]
        }
      ]
    },
    {
      "cell_type": "code",
      "source": [
        "#https://numpy.org/doc/stable/reference/generated/numpy.isnan.html\n",
        "a = np.array([np.nan, 1,2,np.nan,3,4,5])\n",
        "print(a)\n",
        "print(a[np.isnan(a)])"
      ],
      "metadata": {
        "colab": {
          "base_uri": "https://localhost:8080/"
        },
        "id": "W7fnpsbRask0",
        "outputId": "09a49b28-9a7d-4c56-9ab3-210bfb86580f"
      },
      "execution_count": null,
      "outputs": [
        {
          "output_type": "stream",
          "name": "stdout",
          "text": [
            "[nan  1.  2. nan  3.  4.  5.]\n",
            "[nan nan]\n"
          ]
        }
      ]
    },
    {
      "cell_type": "code",
      "source": [
        "print(a)\n",
        "print(a[~np.isnan(a)])"
      ],
      "metadata": {
        "colab": {
          "base_uri": "https://localhost:8080/"
        },
        "id": "Davnj4q7pebx",
        "outputId": "3914f8eb-9009-4fe6-a620-0c140e287fdd"
      },
      "execution_count": null,
      "outputs": [
        {
          "output_type": "stream",
          "name": "stdout",
          "text": [
            "[nan  1.  2. nan  3.  4.  5.]\n",
            "[1. 2. 3. 4. 5.]\n"
          ]
        }
      ]
    },
    {
      "cell_type": "code",
      "source": [
        "#https://numpy.org/doc/stable/reference/generated/numpy.iscomplex.html\n",
        "a = np.array([1, 2.1+6j, 5, 3.5+5j])\n",
        "print(a)\n",
        "print(a.dtype)\n",
        "print(a[np.iscomplex(a)])"
      ],
      "metadata": {
        "colab": {
          "base_uri": "https://localhost:8080/"
        },
        "id": "pSzIn0fvbT4w",
        "outputId": "25f96371-c076-46fd-f959-b3838a7b29ea"
      },
      "execution_count": null,
      "outputs": [
        {
          "output_type": "stream",
          "name": "stdout",
          "text": [
            "[1. +0.j 2.1+6.j 5. +0.j 3.5+5.j]\n",
            "complex128\n",
            "[2.1+6.j 3.5+5.j]\n"
          ]
        }
      ]
    },
    {
      "cell_type": "code",
      "source": [
        "print(a)\n",
        "print(a[~np.iscomplex(a)])"
      ],
      "metadata": {
        "id": "B5tg6rlSbfSu",
        "colab": {
          "base_uri": "https://localhost:8080/"
        },
        "outputId": "96462ed7-7177-4fc5-e6c2-75da8a9d2adb"
      },
      "execution_count": null,
      "outputs": [
        {
          "output_type": "stream",
          "name": "stdout",
          "text": [
            "[1. +0.j 2.1+6.j 5. +0.j 3.5+5.j]\n",
            "[1.+0.j 5.+0.j]\n"
          ]
        }
      ]
    },
    {
      "cell_type": "code",
      "source": [],
      "metadata": {
        "id": "SD5Zo1xyp5_3"
      },
      "execution_count": null,
      "outputs": []
    }
  ]
}